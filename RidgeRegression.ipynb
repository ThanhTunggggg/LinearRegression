{
 "cells": [
  {
   "cell_type": "code",
   "execution_count": 1,
   "metadata": {
    "collapsed": true
   },
   "outputs": [],
   "source": [
    "%matplotlib inline\n",
    "# Import libraies\n",
    "import numpy as np\n",
    "import pandas as pd\n",
    "from matplotlib import pyplot as plt\n",
    "from sklearn.linear_model import LinearRegression, Ridge\n",
    "from sklearn.model_selection import train_test_split"
   ]
  },
  {
   "cell_type": "code",
   "execution_count": 2,
   "metadata": {
    "collapsed": false
   },
   "outputs": [
    {
     "name": "stdout",
     "output_type": "stream",
     "text": [
      "Training and validation dataset\n",
      "     lcavol   lweight  age      lbph  svi       lcp  gleason  pgg45      lpsa\n",
      "0  2.539054  4.346746   78  2.332352    0 -1.393579        7     10  3.435599\n",
      "1 -0.017083  3.211816   63 -1.392447    0 -0.790421        6      0  2.047693\n",
      "2 -0.991411  3.318198   58 -1.379746    0 -1.389900        6      0 -0.162519\n",
      "3  3.148832  3.273796   68 -0.059287    1  2.423715        7     50  3.337547\n",
      "4  1.281664  4.290029   66  2.117571    0 -1.393860        7     15  2.718001\n",
      "\n",
      "\n",
      "Histogram of dataset\n"
     ]
    },
    {
     "data": {
      "image/png": "[encoded data removed]",
      "text/plain": [
       "<matplotlib.figure.Figure at 0x7efc4a2f7a20>"
      ]
     },
     "metadata": {},
     "output_type": "display_data"
    },
    {
     "name": "stdout",
     "output_type": "stream",
     "text": [
      "\n",
      "\n",
      "Testing data \n",
      "     lcavol   lweight  age      lbph  svi       lcp  gleason  pgg45      lpsa\n",
      "0  0.748683  3.474706   64  0.609112    0 -1.378343        6      0  0.765468\n",
      "1  3.153745  3.514460   59 -1.380581    0 -1.377580        7      5  2.704711\n",
      "2  3.165408  3.525971   59 -1.380834    0 -1.379024        7      5  2.704711\n",
      "3  1.741532  3.508319   43 -1.392266    0 -1.390943        6      0  2.591516\n",
      "4  1.765385  3.888884   61 -1.380693    0  0.804053        7      6  2.374906\n"
     ]
    }
   ],
   "source": [
    "# Import dataset\n",
    "df = pd.read_csv(\"1-prostate-training-data.csv\")  # , delim_whitespace = True)\n",
    "print(\"Training and validation dataset\")\n",
    "print(df.head(5))\n",
    "df.describe()\n",
    "\n",
    "print(\"\\n\\nHistogram of dataset\")\n",
    "df.hist()\n",
    "plt.show()\n",
    "\n",
    "names = df.columns\n",
    "df_test = pd.read_csv(\"20145087-test.csv\", names=names)\n",
    "print(\"\\n\\nTesting data \")\n",
    "print(df_test.head(5))"
   ]
  },
  {
   "cell_type": "code",
   "execution_count": 3,
   "metadata": {
    "collapsed": false,
    "scrolled": false
   },
   "outputs": [
    {
     "name": "stdout",
     "output_type": "stream",
     "text": [
      "\n",
      "\n",
      "--------------------DATA-------------------------\n",
      "(200, 9)\n",
      "[[  1.00000000e+00   2.53905372e+00   4.34674650e+00   7.80000000e+01\n",
      "    2.33235214e+00   0.00000000e+00  -1.39357908e+00   7.00000000e+00\n",
      "    1.00000000e+01]\n",
      " [  1.00000000e+00  -1.70829540e-02   3.21181618e+00   6.30000000e+01\n",
      "   -1.39244664e+00   0.00000000e+00  -7.90421374e-01   6.00000000e+00\n",
      "    0.00000000e+00]\n",
      " [  1.00000000e+00  -9.91411354e-01   3.31819824e+00   5.80000000e+01\n",
      "   -1.37974582e+00   0.00000000e+00  -1.38990019e+00   6.00000000e+00\n",
      "    0.00000000e+00]\n",
      " [  1.00000000e+00   3.14883231e+00   3.27379555e+00   6.80000000e+01\n",
      "   -5.92870560e-02   1.00000000e+00   2.42371489e+00   7.00000000e+00\n",
      "    5.00000000e+01]\n",
      " [  1.00000000e+00   1.28166447e+00   4.29002889e+00   6.60000000e+01\n",
      "    2.11757107e+00   0.00000000e+00  -1.39385984e+00   7.00000000e+00\n",
      "    1.50000000e+01]]\n",
      "(200, 1)\n",
      "[[ 3.4355988]\n",
      " [ 2.0476928]\n",
      " [-0.1625189]\n",
      " [ 3.3375474]\n",
      " [ 2.7180005]]\n",
      "\n",
      "\n",
      "------------------Validation DATA-------------------------\n",
      "(40, 9)\n",
      "[[  1.           2.19494643   4.04357477  72.           2.30569572   0.\n",
      "   -0.42457138   7.          10.        ]\n",
      " [  1.           0.60228632   3.85549891  62.           1.704141     0.\n",
      "   -0.42698242   6.           0.        ]\n",
      " [  1.           2.66545395   4.08003577  68.           1.37819174   1.\n",
      "    1.86001304   7.          35.        ]\n",
      " [  1.           0.7965885    3.01534859  56.           0.94623313   0.\n",
      "   -0.16065762   7.           5.        ]\n",
      " [  1.           1.08160322   3.98526966  68.          -1.40168798   0.\n",
      "   -1.40528588   7.          50.        ]]\n",
      "(40, 1)\n",
      "[[ 2.9626924]\n",
      " [ 2.3272777]\n",
      " [ 2.2137539]\n",
      " [ 2.2772673]\n",
      " [ 2.6567569]]\n",
      "\n",
      "\n",
      "------------------Testing DATA-------------------------\n",
      "(5, 9)\n",
      "[[  1.           0.74868317   3.47470614  64.           0.60911208   0.\n",
      "   -1.37834301   6.           0.        ]\n",
      " [  1.           3.15374495   3.51446035  59.          -1.38058132   0.\n",
      "   -1.37758033   7.           5.        ]\n",
      " [  1.           3.16540824   3.52597128  59.          -1.38083366   0.\n",
      "   -1.37902388   7.           5.        ]\n",
      " [  1.           1.74153247   3.50831947  43.          -1.3922657    0.\n",
      "   -1.39094297   6.           0.        ]\n",
      " [  1.           1.76538539   3.88888352  61.          -1.38069284   0.\n",
      "    0.80405305   7.           6.        ]]\n",
      "(5, 1)\n",
      "[[ 0.7654678]\n",
      " [ 2.7047113]\n",
      " [ 2.7047113]\n",
      " [ 2.5915164]\n",
      " [ 2.3749058]]\n",
      "\n",
      "\n",
      "------------------Real DATA-------------------------\n",
      "(5, 9)\n",
      "[[  1.00000000e+00   2.05943991e+00   3.49447974e+00   6.00000000e+01\n",
      "    1.47658905e+00   0.00000000e+00   1.35759287e+00   7.00000000e+00\n",
      "    2.00000000e+01]\n",
      " [  1.00000000e+00   1.74535526e+00   3.50232859e+00   4.30000000e+01\n",
      "   -1.38552516e+00   0.00000000e+00  -1.37606984e+00   6.00000000e+00\n",
      "    0.00000000e+00]\n",
      " [  1.00000000e+00   5.00568206e-01   3.62579727e+00   6.40000000e+01\n",
      "    1.50878945e+00   0.00000000e+00   5.39281813e-02   7.00000000e+00\n",
      "    7.00000000e+01]\n",
      " [  1.00000000e+00   1.22228400e+00   3.56183736e+00   7.00000000e+01\n",
      "    1.35943176e+00   0.00000000e+00  -7.97320879e-01   6.00000000e+00\n",
      "    0.00000000e+00]\n",
      " [  1.00000000e+00   1.70006857e-01   3.79086655e+00   6.50000000e+01\n",
      "    1.71162009e+00   0.00000000e+00  -1.40004308e+00   6.00000000e+00\n",
      "    0.00000000e+00]]\n"
     ]
    }
   ],
   "source": [
    "# Prepare data for training\n",
    "print(\"\\n\\n--------------------DATA-------------------------\")\n",
    "X = df.loc[:, \"lcavol\": \"pgg45\"]\n",
    "y = df.iloc[:, 8:]\n",
    "# print(X_train)\n",
    "X = X.as_matrix()\n",
    "y = y.as_matrix()\n",
    "# Building Xbar\n",
    "one = np.ones((X.shape[0], 1))\n",
    "Xbar = np.concatenate((one, X), axis=1)\n",
    "print(Xbar.shape)\n",
    "print(Xbar[: 5, :])\n",
    "print(y.shape)\n",
    "print(y[: 5, :])\n",
    "\n",
    "print(\"\\n\\n------------------Validation DATA-------------------------\")\n",
    "test_size = 0.2\n",
    "seed = 7\n",
    "Xbar_train, Xbar_val, y_train, y_val = train_test_split(Xbar, y, test_size=test_size,\n",
    "                                                        random_state=seed)\n",
    "print(Xbar_val.shape)\n",
    "print(Xbar_val[: 5, :])\n",
    "print(y_val.shape)\n",
    "print(y_val[: 5, :])\n",
    "\n",
    "print(\"\\n\\n------------------Testing DATA-------------------------\")\n",
    "# # Data for testing\n",
    "X_test = df_test.iloc[: 5, : 8]\n",
    "y_test = df_test.iloc[: 5, 8:]\n",
    "y_test = y_test.as_matrix()\n",
    "X_test = X_test.as_matrix()\n",
    "#one_test = np.ones((X_test.shape[0], 1))\n",
    "Xbar_test = np.concatenate((np.ones((X_test.shape[0], 1)), X_test), axis=1)\n",
    "print(Xbar_test.shape)\n",
    "print(Xbar_test)\n",
    "print(y_test.shape)\n",
    "print(y_test)\n",
    "\n",
    "print(\"\\n\\n------------------Real DATA-------------------------\")\n",
    "# Real data\n",
    "X_real = df_test.iloc[5:, : 8]\n",
    "X_real = X_real.as_matrix()\n",
    "Xbar_real = np.hstack((np.ones((X_real.shape[0], 1)), X_real))\n",
    "print(Xbar_real.shape)\n",
    "print(Xbar_real)"
   ]
  },
  {
   "cell_type": "code",
   "execution_count": 4,
   "metadata": {
    "collapsed": true,
    "slideshow": {
     "slide_type": "subslide"
    }
   },
   "outputs": [],
   "source": [
    "#Buil Model use Numpy\n",
    "class RidgeRegression(object):\n",
    "\n",
    "    def fit(self, Xbar, y, alpha=0):\n",
    "        G = alpha * np.eye(Xbar.shape[1])\n",
    "        G[0, 0] = 0  # Don't regularize bias\n",
    "        self.weights = np.dot(np.linalg.inv(np.dot(Xbar.T, Xbar) + np.dot(G.T, G)),\n",
    "                             np.dot(Xbar.T, y))\n",
    "\n",
    "    def predict(self, Xbar):\n",
    "        return np.dot(Xbar, self.weights)\n"
   ]
  },
  {
   "cell_type": "code",
   "execution_count": 5,
   "metadata": {
    "collapsed": false
   },
   "outputs": [
    {
     "name": "stdout",
     "output_type": "stream",
     "text": [
      "\n",
      "\n",
      "-------------------Ridge Regression Numpy--------------------\n"
     ]
    },
    {
     "data": {
      "image/png": "[encoded data removed]",
      "text/plain": [
       "<matplotlib.figure.Figure at 0x7efc46109e80>"
      ]
     },
     "metadata": {},
     "output_type": "display_data"
    },
    {
     "name": "stdout",
     "output_type": "stream",
     "text": [
      "Best alpha value:  1.98\n",
      "Min mean square error: 0.489691620501\n"
     ]
    }
   ],
   "source": [
    "print(\"\\n\\n-------------------Ridge Regression Numpy--------------------\")\n",
    "# Ridge Regression\n",
    "alphas = np.array([])\n",
    "mses = np.array([])\n",
    "for i in np.arange(0, 10, .02):\n",
    "    rr = RidgeRegression()  # , normalize=True)\n",
    "    rr.fit(Xbar_train, y_train, alpha=i)\n",
    "    predictions = rr.predict(Xbar_val)\n",
    "    mse = np.mean((predictions - y_val)**2)\n",
    "    alphas = np.append(alphas, i)\n",
    "    mses = np.append(mses, mse)\n",
    "    #print(\"mean square error:\", mse)\n",
    "plt.plot(alphas, mses)\n",
    "plt.show()\n",
    "alpha = alphas[np.argmin(mses)]\n",
    "print(\"Best alpha value: \", alpha)\n",
    "print(\"Min mean square error:\", np.min(mses))"
   ]
  },
  {
   "cell_type": "code",
   "execution_count": 6,
   "metadata": {
    "collapsed": false
   },
   "outputs": [
    {
     "name": "stdout",
     "output_type": "stream",
     "text": [
      "-------------------Linear Regression Sklearn--------------------\n",
      "linear regression model weights: [[ 0.09688267  0.63502767  0.63559189 -0.01336291  0.1113942   0.24132024\n",
      "  -0.11963027 -0.05245795  0.00895795]]\n",
      "mean square error: 0.492889793574\n",
      "\n",
      "\n",
      "-------------------Ridge Regression Sklearn--------------------\n"
     ]
    },
    {
     "data": {
      "image/png": "[encoded data removed]",
      "text/plain": [
       "<matplotlib.figure.Figure at 0x7efc8cb92be0>"
      ]
     },
     "metadata": {},
     "output_type": "display_data"
    },
    {
     "name": "stdout",
     "output_type": "stream",
     "text": [
      "Best alpha value:  0.0\n",
      "Min mean square error: 0.492889793575\n"
     ]
    }
   ],
   "source": [
    "# Train model use sklearn libray\n",
    "# Linear Regression\n",
    "print(\"-------------------Linear Regression Sklearn--------------------\")\n",
    "lm = LinearRegression(fit_intercept=False)\n",
    "lm.fit(Xbar_train, y_train)\n",
    "print(\"linear regression model weights:\", lm.coef_)\n",
    "predictions = lm.predict(Xbar_val)\n",
    "mse = np.mean((predictions - y_val)**2)\n",
    "print(\"mean square error:\", mse)\n",
    "print(\"\\n\\n-------------------Ridge Regression Sklearn--------------------\")\n",
    "# Ridge Regression\n",
    "alphas_sk = np.array([])\n",
    "mses = np.array([])\n",
    "for i in np.arange(0, 10, .02):\n",
    "    rr = Ridge(alpha=i, fit_intercept=False, normalize=True)\n",
    "    rr.fit(Xbar_train, y_train)\n",
    "    predictions = rr.predict(Xbar_val)\n",
    "    mse = np.mean((predictions - y_val)**2)\n",
    "    alphas_sk = np.append(alphas_sk, i)\n",
    "    mses = np.append(mses, mse)\n",
    "    #print(\"mean square error:\", mse)\n",
    "plt.plot(alphas_sk, mses)\n",
    "plt.show()\n",
    "idx = np.argmin(mses)\n",
    "alpha_sk = alphas_sk[idx]\n",
    "print(\"Best alpha value: \", alpha_sk)\n",
    "print(\"Min mean square error:\", np.min(mses))"
   ]
  },
  {
   "cell_type": "code",
   "execution_count": 7,
   "metadata": {
    "collapsed": false,
    "scrolled": true
   },
   "outputs": [
    {
     "name": "stdout",
     "output_type": "stream",
     "text": [
      "GT: [[ 0.7654678  2.7047113  2.7047113  2.5915164  2.3749058]]\n",
      "RR: [[ 1.85567956  3.19105479  3.20477505  2.49943193  2.2970502 ]]\n",
      "MSE: 0.337939294132\n"
     ]
    }
   ],
   "source": [
    "# Test model used Numpy\n",
    "rr = RidgeRegression()\n",
    "rr.fit(Xbar_train, y_train, alpha=alpha)\n",
    "predictions_rr = rr.predict(Xbar_test)\n",
    "print(\"GT:\", y_test.T)\n",
    "print(\"RR:\", predictions_rr.T)\n",
    "print(\"MSE:\", np.mean((predictions_rr - y_test)**2))"
   ]
  },
  {
   "cell_type": "code",
   "execution_count": 8,
   "metadata": {
    "collapsed": false
   },
   "outputs": [
    {
     "name": "stdout",
     "output_type": "stream",
     "text": [
      "Ridge regression model weights W:\n",
      " [[ 0.32528009]\n",
      " [ 0.62571003]\n",
      " [ 0.54823127]\n",
      " [-0.01178997]\n",
      " [ 0.12228858]\n",
      " [ 0.2069855 ]\n",
      " [-0.09881233]\n",
      " [-0.04985473]\n",
      " [ 0.0086013 ]]\n",
      "\n",
      "Prediction values:\n",
      " [[ 2.69174308]\n",
      " [ 2.49789414]\n",
      " [ 2.30399461]\n",
      " [ 2.16338798]\n",
      " [ 1.79210342]]\n"
     ]
    }
   ],
   "source": [
    "# Inference used Numpy\n",
    "predictions_real = rr.predict(Xbar_real)\n",
    "print(\"Ridge regression model weights W:\\n\", rr.weights)\n",
    "print(\"\\nPrediction values:\\n\", predictions_real)"
   ]
  },
  {
   "cell_type": "code",
   "execution_count": 9,
   "metadata": {
    "collapsed": false
   },
   "outputs": [
    {
     "name": "stdout",
     "output_type": "stream",
     "text": [
      "GT: [[ 0.7654678  2.7047113  2.7047113  2.5915164  2.3749058]]\n",
      "RR: [[ 1.84358119  3.23354423  3.24841158  2.55461896  2.31110813]]\n",
      "MSE: 0.348606858989\n",
      "\n",
      "Ridge regression model weights sklearn W:\n",
      " [[ 0.09688267]\n",
      " [ 0.63502767]\n",
      " [ 0.63559189]\n",
      " [-0.01336291]\n",
      " [ 0.1113942 ]\n",
      " [ 0.24132024]\n",
      " [-0.11963027]\n",
      " [-0.05245795]\n",
      " [ 0.00895795]]\n",
      "\n",
      "Prediction values sklearn :\n",
      " [[ 2.63799974]\n",
      " [ 2.55221036]\n",
      " [ 2.28552786]\n",
      " [ 2.13360667]\n",
      " [ 1.78910078]]\n"
     ]
    }
   ],
   "source": [
    "# Test model & Inference of model using sklearn\n",
    "rr_sk = Ridge(alpha=alpha_sk, fit_intercept=False)\n",
    "rr_sk.fit(Xbar_train, y_train)\n",
    "predictions_rr_sk = rr_sk.predict(Xbar_test)\n",
    "print(\"GT:\", y_test.T)\n",
    "print(\"RR:\", predictions_rr_sk.T)\n",
    "print(\"MSE:\", np.mean((predictions_rr_sk - y_test)**2))\n",
    "predictions_real = rr_sk.predict(Xbar_real)\n",
    "print(\"\\nRidge regression model weights sklearn W:\\n\", rr_sk.coef_.T)\n",
    "print(\"\\nPrediction values sklearn :\\n\", predictions_real)"
   ]
  },
  {
   "cell_type": "code",
   "execution_count": null,
   "metadata": {
    "collapsed": true
   },
   "outputs": [],
   "source": []
  }
 ],
 "metadata": {
  "_draft": {
   "nbviewer_url": "https://gist.github.com/a5ef6af20fd8c8414d6d65a61719bc33"
  },
  "anaconda-cloud": {},
  "gist": {
   "data": {
    "description": "Desktop/Untitled.ipynb",
    "public": true
   },
   "id": "a5ef6af20fd8c8414d6d65a61719bc33"
  },
  "kernelspec": {
   "display_name": "Python [conda root]",
   "language": "python",
   "name": "conda-root-py"
  },
  "language_info": {
   "codemirror_mode": {
    "name": "ipython",
    "version": 3
   },
   "file_extension": ".py",
   "mimetype": "text/x-python",
   "name": "python",
   "nbconvert_exporter": "python",
   "pygments_lexer": "ipython3",
   "version": "3.5.2"
  }
 },
 "nbformat": 4,
 "nbformat_minor": 2
}
